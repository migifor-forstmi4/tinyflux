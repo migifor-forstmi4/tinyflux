{
 "cells": [
  {
   "cell_type": "markdown",
   "id": "4cf56921",
   "metadata": {},
   "source": [
    "# Arbeitspaket (AP) 2: Management & Nutzung Temporale Daten"
   ]
  },
  {
   "cell_type": "markdown",
   "id": "0f7fb22f",
   "metadata": {},
   "source": [
    "### Persönliche Angaben (bitte ergänzen)"
   ]
  },
  {
   "cell_type": "markdown",
   "id": "94d35a25",
   "metadata": {},
   "source": [
    "<table>\n",
    "  <tr>\n",
    "    <td>Vorname:</td>\n",
    "    <td></td>\n",
    "  </tr>\n",
    "  <tr>\n",
    "    <td>Nachname:</td>\n",
    "    <td></td>\n",
    "  </tr>\n",
    "  <tr>\n",
    "    <td>Immatrikulationsnummer:</td>\n",
    "    <td></td>\n",
    "  </tr>\n",
    "  <tr>\n",
    "    <td>Modul:</td>\n",
    "    <td>Data Science</td>\n",
    "  </tr>\n",
    "  <tr>\n",
    "    <td>Prüfungsdatum / Raum / Zeit:</td>\n",
    "    <td>06.10.2025 / Raum: MU O2.001 / 8:00 – 11:45</td>\n",
    "  </tr>\n",
    "  <tr>\n",
    "    <td>Erlaubte Hilfsmittel:</td>\n",
    "    <td>w.MA.XX.DS.25HS (Data Science)<br>Open Book, Eigener Computer, Internet-Zugang</td>\n",
    "  </tr>\n",
    "  <tr>\n",
    "  <td>Nicht erlaubt:</td>\n",
    "  <td>Nicht erlaubt ist der Einsatz beliebiger Formen von generativer KI (z.B. Copilot, ChatGPT) <br> sowie beliebige Formen von Kommunikation oder Kollaboration mit anderen Menschen.</td>\n",
    "</tr>\n",
    "</table>"
   ]
  },
  {
   "cell_type": "markdown",
   "id": "61847f62",
   "metadata": {},
   "source": [
    "## Bewertungskriterien\n",
    "\n",
    "### <b style=\"color: gray;\">(max. erreichbare Punkte: 40)</b>\n",
    "\n",
    "<table>\n",
    "  <thead>\n",
    "    <tr>\n",
    "      <th>Kategorie</th>\n",
    "      <th>Beschreibung</th>\n",
    "      <th>Punkteverteilung</th>\n",
    "    </tr>\n",
    "  </thead>\n",
    "  <tbody>\n",
    "    <tr>\n",
    "      <td>Code nicht lauffähig oder Ergebnisse nicht sinnvoll</td>\n",
    "      <td>Der Code enthält Fehler, die verhindern, dass er ausgeführt werden kann (z.B. Syntaxfehler) oder es werden Ergebnisse ausgegeben, welche nicht zur Fragestellung passen.</td>\n",
    "      <td>0 Punkte</td>\n",
    "    </tr>\n",
    "    <tr>\n",
    "      <td>Code lauffähig, aber mit gravierenden Mängeln</td>\n",
    "      <td>Der Code läuft, aber die Ergebnisse sind aufgrund wesentlicher Fehler unvollständig (z.B. fehlende Joins, gravierende Fehler in SQL-Abfragen). Nur geringer Fortschritt erkennbar.</td>\n",
    "      <td>25% der max. erreichbaren Punkte</td>\n",
    "    </tr>\n",
    "    <tr>\n",
    "      <td>Code lauffähig, aber mit mittleren Mängeln</td>\n",
    "      <td>Der Code läuft und liefert teilweise korrekte Ergebnisse, aber es gibt grössere Fehler (z.B. fehlende Spalten, unvollständige SQL-Abfragen). Die Ergebnisse sind nachvollziehbar, aber unvollständig oder ungenau.</td>\n",
    "      <td>50% der max. erreichbaren Punkte</td>\n",
    "    </tr>\n",
    "    <tr>\n",
    "      <td>Code lauffähig, aber mit minimalen Mängeln</td>\n",
    "      <td>Der Code läuft und liefert ein weitgehend korrektes Ergebnis, aber kleinere Fehler (z.B. falsche oder fehlende Sortierung, Rundung von Werten falsch) beeinträchtigen die Vollständigkeit des Ergebnisses.</td>\n",
    "      <td>75% der max. erreichbaren Punkte</td>\n",
    "    </tr>\n",
    "    <tr>\n",
    "      <td>Code lauffähig und korrekt</td>\n",
    "      <td>Der Code läuft einwandfrei und liefert das korrekte Ergebnis ohne Mängel.</td>\n",
    "      <td>100% der max. erreichbaren Punkte</td>\n",
    "    </tr>\n",
    "  </tbody>\n",
    "</table>\n",
    "\n"
   ]
  },
  {
   "cell_type": "markdown",
   "id": "90124c07-594b-4ad9-bfd0-e860212a6f4f",
   "metadata": {},
   "source": [
    "## <b>Vorbereitung (Dieser Teil wird <u>nicht</u> bewertet!)</b>"
   ]
  },
  {
   "cell_type": "markdown",
   "id": "61a93a82-696e-475a-a8da-9f5c475ae1cb",
   "metadata": {
    "jp-MarkdownHeadingCollapsed": true,
    "tags": []
   },
   "source": [
    "#### <b>Beschreibung des Datensatzes `synthetic_ecommerce_orders.csv`</b>\n",
    "\n",
    "- **Inhalt:** Synthetische E-Commerce-Bestellereignisse (April–Juni 2024)\n",
    "- **Schema:**\n",
    "  - `time` (lokale Zeit, Europe/Zurich, Format `YYYY-MM-DD HH:MM:SS`)\n",
    "  - `customer_id` (int)\n",
    "  - `product_id` (int)\n",
    "  - `price` (float, EUR)\n",
    "  - `discount` (float, EUR)\n",
    "  - `status` (category: `placed`, `paid`, `cancelled`, `refunded`)\n",
    "- **Hinweise zur Nutzung:**\n",
    "  - Für **Abfragen** mit Tinyflux Zeitstempel nach **UTC** konvertieren.\n",
    "  - `price - discount` kann als **Nettoerlös** interpretiert werden (v. a. für `paid`).\n",
    "  - Leichte Tages-/Wochenmuster (mehr Aktivität 09:00–21:00, werktags).\n",
    "- **Ziel:** Einlesen, in Tinyflux schreiben (Fields: `price`, `discount`; Tags: `customer_id`, `product_id`, `status`, optional `channel`), Zeitfenster-Abfragen und Aggregationen.\n"
   ]
  },
  {
   "cell_type": "markdown",
   "id": "9b8df3dd",
   "metadata": {},
   "source": [
    "#### <b>1.) Python Libraries und Settings importieren:</b>"
   ]
  },
  {
   "cell_type": "code",
   "execution_count": 1,
   "id": "b027d889",
   "metadata": {
    "tags": []
   },
   "outputs": [],
   "source": [
    "# Libraries\n",
    "import os\n",
    "import pandas as pd\n",
    "import csv\n",
    "from tinyflux import TinyFlux, Point, FieldQuery, TagQuery, TimeQuery\n",
    "from datetime import datetime, timezone, timedelta\n",
    "\n",
    "# Settings\n",
    "import warnings\n",
    "warnings.filterwarnings(\"ignore\")\n",
    "\n",
    "# Abkürzungen für Query-Typen\n",
    "time = TimeQuery()\n",
    "tags = TagQuery()\n",
    "field = FieldQuery()"
   ]
  },
  {
   "cell_type": "markdown",
   "id": "26250af4-2910-4da6-86bc-6c649d0791d3",
   "metadata": {},
   "source": [
    "#### <b>2.) Funktion für die Erstellung eines Dataframes aus Query-Resultaten in den Arbeitsspeicher laden:</b>"
   ]
  },
  {
   "cell_type": "code",
   "execution_count": 2,
   "id": "85718b1e-8fa0-422e-add9-e462f1147bd9",
   "metadata": {
    "tags": []
   },
   "outputs": [],
   "source": [
    "# Define the function to transform the list of Point objects into a DataFrame\n",
    "def points_to_dataframe(points_list):\n",
    "    data = []\n",
    "    \n",
    "    # Extract the relevant information\n",
    "    for point in points_list:\n",
    "        data.append({\n",
    "            \"time\": point.time,  # Access time attribute\n",
    "            \"customer_id\": point.tags['customer_id'],  # Access customer_id from tags dictionary\n",
    "            \"product_id\": point.tags['product_id'],  # Access product_id from tags dictionary\n",
    "            \"status\": point.tags['status'],  # Access status from tags dictionary\n",
    "            \"price\": point.fields['price'],  # Access price from fields dictionary\n",
    "            \"discount\": point.fields['discount']  # Access discount from fields dictionary\n",
    "        })\n",
    "\n",
    "    # Create a DataFrame\n",
    "    df = pd.DataFrame(data)\n",
    "\n",
    "    # Convert time to datetime\n",
    "    df['time'] = pd.to_datetime(df['time'])\n",
    "\n",
    "    return df"
   ]
  },
  {
   "cell_type": "markdown",
   "id": "2e253f40",
   "metadata": {},
   "source": [
    "#### <b>3.) Starten Sie eine GitHub Codespaces Instanz auf Basis Ihres Forks des folgenden GitHub Repositories:</b>\n",
    "\n",
    "##### GitHub-Repository: https://github.com/MariaPelli/tinyflux\n"
   ]
  },
  {
   "cell_type": "markdown",
   "id": "a2442005",
   "metadata": {},
   "source": [
    "#### <b>4.) Erstellen Sie mit Tinyflux eine Datenbank mit dem Namen \"ecommerce.db\".</b>"
   ]
  },
  {
   "cell_type": "code",
   "execution_count": 3,
   "id": "36ca64be",
   "metadata": {
    "tags": []
   },
   "outputs": [],
   "source": [
    "# Erstellung der Tinyflux-Datenbank\n",
    "db = TinyFlux(\"ecommerce.db\")"
   ]
  },
  {
   "cell_type": "markdown",
   "id": "e5c27b72",
   "metadata": {},
   "source": [
    "## <b>Aufgaben: Einlesen der Daten in die Datenbank (Dieser Teil wird bewertet!)</b>"
   ]
  },
  {
   "cell_type": "markdown",
   "id": "53f4b234",
   "metadata": {},
   "source": [
    "#### <b>Aufgabe (1): Lesen Sie die CSV-Datei 'synthetic_ecommerce_transactions.csv' in ein Dataframe mit dem Namen \"df\" ein, zeigen Sie die ersten 10 Records und geben deskriptive Statistiken des Dataframes aus.</b>\n",
    "\n",
    "<b>Details zur Aufgabenstellung:</b>\n",
    "\n",
    "- Das Laden der CSV-Datei kann mittels der Pandas-Funktion \"read_csv\" (https://pandas.pydata.org/pandas-docs/stable/reference/api/pandas.read_csv.html) erfolgen\n",
    "- Achten Sie darauf, den Zeitstempel mittels der Pandas-Funktion __df['timestamp']= pd.to_datetime(df['timestamp'], format='mixed')__ auf das Format datetime zu setzen (https://pandas.pydata.org/docs/reference/api/pandas.to_datetime.html)\n",
    "- Die ersten 10 Records können mittels der Pandas-Funktion \"df.head()\" wiedergegeben werden (https://pandas.pydata.org/docs/reference/api/pandas.DataFrame.head.html) \n",
    "- Deskriptive Statistiken können mittels Pandas-Funktion \"df.describe()\" (https://pandas.pydata.org/docs/reference/api/pandas.DataFrame.describe.html) wiedergegeben werden. Geben Sie diese für quantitative und kategoriale Variablen aus, indem Sie den Parameter include auf 'all' setzen.\n",
    "\n",
    "<b style=\"color: gray;\">(max. erreichbare Punkte: 4)</b>"
   ]
  },
  {
   "cell_type": "code",
   "execution_count": 4,
   "id": "ef32ffa2-1859-48af-a78c-0f1b5748fc98",
   "metadata": {
    "tags": []
   },
   "outputs": [],
   "source": [
    "# CSV-Datei in Dataframe laden\n",
    "df = pd.read_csv('synthetic_ecommerce_orders.csv')\n",
    "\n",
    "# Das Format des Zeitstempels in Pandas setzen\n",
    "df['time'] = pd.to_datetime(df['time'], format='mixed')"
   ]
  },
  {
   "cell_type": "code",
   "execution_count": 5,
   "id": "a0e96111-8d86-42e6-abe6-57d49ec7e487",
   "metadata": {
    "tags": []
   },
   "outputs": [
    {
     "data": {
      "text/html": [
       "<div>\n",
       "<style scoped>\n",
       "    .dataframe tbody tr th:only-of-type {\n",
       "        vertical-align: middle;\n",
       "    }\n",
       "\n",
       "    .dataframe tbody tr th {\n",
       "        vertical-align: top;\n",
       "    }\n",
       "\n",
       "    .dataframe thead th {\n",
       "        text-align: right;\n",
       "    }\n",
       "</style>\n",
       "<table border=\"1\" class=\"dataframe\">\n",
       "  <thead>\n",
       "    <tr style=\"text-align: right;\">\n",
       "      <th></th>\n",
       "      <th>time</th>\n",
       "      <th>customer_id</th>\n",
       "      <th>product_id</th>\n",
       "      <th>price</th>\n",
       "      <th>discount</th>\n",
       "      <th>status</th>\n",
       "    </tr>\n",
       "  </thead>\n",
       "  <tbody>\n",
       "    <tr>\n",
       "      <th>0</th>\n",
       "      <td>2024-06-14 15:24:38</td>\n",
       "      <td>11192</td>\n",
       "      <td>686</td>\n",
       "      <td>29.07</td>\n",
       "      <td>5.52</td>\n",
       "      <td>paid</td>\n",
       "    </tr>\n",
       "    <tr>\n",
       "      <th>1</th>\n",
       "      <td>2024-05-07 22:45:57</td>\n",
       "      <td>10763</td>\n",
       "      <td>1246</td>\n",
       "      <td>39.82</td>\n",
       "      <td>0.00</td>\n",
       "      <td>cancelled</td>\n",
       "    </tr>\n",
       "    <tr>\n",
       "      <th>2</th>\n",
       "      <td>2024-06-04 19:16:06</td>\n",
       "      <td>10966</td>\n",
       "      <td>1332</td>\n",
       "      <td>15.97</td>\n",
       "      <td>1.28</td>\n",
       "      <td>paid</td>\n",
       "    </tr>\n",
       "    <tr>\n",
       "      <th>3</th>\n",
       "      <td>2024-04-15 22:58:24</td>\n",
       "      <td>12368</td>\n",
       "      <td>642</td>\n",
       "      <td>32.84</td>\n",
       "      <td>5.25</td>\n",
       "      <td>placed</td>\n",
       "    </tr>\n",
       "    <tr>\n",
       "      <th>4</th>\n",
       "      <td>2024-06-01 10:21:20</td>\n",
       "      <td>10847</td>\n",
       "      <td>1094</td>\n",
       "      <td>16.67</td>\n",
       "      <td>1.17</td>\n",
       "      <td>paid</td>\n",
       "    </tr>\n",
       "    <tr>\n",
       "      <th>5</th>\n",
       "      <td>2024-06-22 22:41:19</td>\n",
       "      <td>10360</td>\n",
       "      <td>1498</td>\n",
       "      <td>35.11</td>\n",
       "      <td>2.11</td>\n",
       "      <td>paid</td>\n",
       "    </tr>\n",
       "    <tr>\n",
       "      <th>6</th>\n",
       "      <td>2024-04-28 19:07:09</td>\n",
       "      <td>10130</td>\n",
       "      <td>674</td>\n",
       "      <td>23.90</td>\n",
       "      <td>2.87</td>\n",
       "      <td>cancelled</td>\n",
       "    </tr>\n",
       "    <tr>\n",
       "      <th>7</th>\n",
       "      <td>2024-06-07 08:35:33</td>\n",
       "      <td>12825</td>\n",
       "      <td>883</td>\n",
       "      <td>28.96</td>\n",
       "      <td>1.16</td>\n",
       "      <td>paid</td>\n",
       "    </tr>\n",
       "    <tr>\n",
       "      <th>8</th>\n",
       "      <td>2024-05-13 21:04:39</td>\n",
       "      <td>12776</td>\n",
       "      <td>960</td>\n",
       "      <td>18.69</td>\n",
       "      <td>3.18</td>\n",
       "      <td>paid</td>\n",
       "    </tr>\n",
       "    <tr>\n",
       "      <th>9</th>\n",
       "      <td>2024-06-10 12:55:15</td>\n",
       "      <td>10847</td>\n",
       "      <td>1230</td>\n",
       "      <td>14.73</td>\n",
       "      <td>2.80</td>\n",
       "      <td>paid</td>\n",
       "    </tr>\n",
       "  </tbody>\n",
       "</table>\n",
       "</div>"
      ],
      "text/plain": [
       "                 time  customer_id  product_id  price  discount     status\n",
       "0 2024-06-14 15:24:38        11192         686  29.07      5.52       paid\n",
       "1 2024-05-07 22:45:57        10763        1246  39.82      0.00  cancelled\n",
       "2 2024-06-04 19:16:06        10966        1332  15.97      1.28       paid\n",
       "3 2024-04-15 22:58:24        12368         642  32.84      5.25     placed\n",
       "4 2024-06-01 10:21:20        10847        1094  16.67      1.17       paid\n",
       "5 2024-06-22 22:41:19        10360        1498  35.11      2.11       paid\n",
       "6 2024-04-28 19:07:09        10130         674  23.90      2.87  cancelled\n",
       "7 2024-06-07 08:35:33        12825         883  28.96      1.16       paid\n",
       "8 2024-05-13 21:04:39        12776         960  18.69      3.18       paid\n",
       "9 2024-06-10 12:55:15        10847        1230  14.73      2.80       paid"
      ]
     },
     "execution_count": 5,
     "metadata": {},
     "output_type": "execute_result"
    }
   ],
   "source": [
    "# Erste 10 Records des Dataframes anzeigen\n",
    "df.head(10)"
   ]
  },
  {
   "cell_type": "code",
   "execution_count": 6,
   "id": "a05e328c-b0c2-4fb3-ab50-e92c613fc801",
   "metadata": {
    "tags": []
   },
   "outputs": [
    {
     "data": {
      "text/html": [
       "<div>\n",
       "<style scoped>\n",
       "    .dataframe tbody tr th:only-of-type {\n",
       "        vertical-align: middle;\n",
       "    }\n",
       "\n",
       "    .dataframe tbody tr th {\n",
       "        vertical-align: top;\n",
       "    }\n",
       "\n",
       "    .dataframe thead th {\n",
       "        text-align: right;\n",
       "    }\n",
       "</style>\n",
       "<table border=\"1\" class=\"dataframe\">\n",
       "  <thead>\n",
       "    <tr style=\"text-align: right;\">\n",
       "      <th></th>\n",
       "      <th>time</th>\n",
       "      <th>customer_id</th>\n",
       "      <th>product_id</th>\n",
       "      <th>price</th>\n",
       "      <th>discount</th>\n",
       "      <th>status</th>\n",
       "    </tr>\n",
       "  </thead>\n",
       "  <tbody>\n",
       "    <tr>\n",
       "      <th>count</th>\n",
       "      <td>4000</td>\n",
       "      <td>4000.000000</td>\n",
       "      <td>4000.000000</td>\n",
       "      <td>4000.000000</td>\n",
       "      <td>4000.000000</td>\n",
       "      <td>4000</td>\n",
       "    </tr>\n",
       "    <tr>\n",
       "      <th>unique</th>\n",
       "      <td>NaN</td>\n",
       "      <td>NaN</td>\n",
       "      <td>NaN</td>\n",
       "      <td>NaN</td>\n",
       "      <td>NaN</td>\n",
       "      <td>4</td>\n",
       "    </tr>\n",
       "    <tr>\n",
       "      <th>top</th>\n",
       "      <td>NaN</td>\n",
       "      <td>NaN</td>\n",
       "      <td>NaN</td>\n",
       "      <td>NaN</td>\n",
       "      <td>NaN</td>\n",
       "      <td>paid</td>\n",
       "    </tr>\n",
       "    <tr>\n",
       "      <th>freq</th>\n",
       "      <td>NaN</td>\n",
       "      <td>NaN</td>\n",
       "      <td>NaN</td>\n",
       "      <td>NaN</td>\n",
       "      <td>NaN</td>\n",
       "      <td>2853</td>\n",
       "    </tr>\n",
       "    <tr>\n",
       "      <th>mean</th>\n",
       "      <td>2024-05-16 05:35:34.792000</td>\n",
       "      <td>11506.696750</td>\n",
       "      <td>998.228500</td>\n",
       "      <td>29.795737</td>\n",
       "      <td>3.025215</td>\n",
       "      <td>NaN</td>\n",
       "    </tr>\n",
       "    <tr>\n",
       "      <th>min</th>\n",
       "      <td>2024-04-01 00:17:20</td>\n",
       "      <td>10001.000000</td>\n",
       "      <td>500.000000</td>\n",
       "      <td>5.790000</td>\n",
       "      <td>0.000000</td>\n",
       "      <td>NaN</td>\n",
       "    </tr>\n",
       "    <tr>\n",
       "      <th>25%</th>\n",
       "      <td>2024-04-22 12:21:22.249999872</td>\n",
       "      <td>10750.000000</td>\n",
       "      <td>751.000000</td>\n",
       "      <td>20.047500</td>\n",
       "      <td>1.260000</td>\n",
       "      <td>NaN</td>\n",
       "    </tr>\n",
       "    <tr>\n",
       "      <th>50%</th>\n",
       "      <td>2024-05-15 23:07:57.500000</td>\n",
       "      <td>11519.000000</td>\n",
       "      <td>996.000000</td>\n",
       "      <td>26.925000</td>\n",
       "      <td>2.535000</td>\n",
       "      <td>NaN</td>\n",
       "    </tr>\n",
       "    <tr>\n",
       "      <th>75%</th>\n",
       "      <td>2024-06-08 11:09:16.249999872</td>\n",
       "      <td>12235.000000</td>\n",
       "      <td>1251.000000</td>\n",
       "      <td>36.532500</td>\n",
       "      <td>4.240000</td>\n",
       "      <td>NaN</td>\n",
       "    </tr>\n",
       "    <tr>\n",
       "      <th>max</th>\n",
       "      <td>2024-06-30 23:23:12</td>\n",
       "      <td>12999.000000</td>\n",
       "      <td>1499.000000</td>\n",
       "      <td>142.670000</td>\n",
       "      <td>18.360000</td>\n",
       "      <td>NaN</td>\n",
       "    </tr>\n",
       "    <tr>\n",
       "      <th>std</th>\n",
       "      <td>NaN</td>\n",
       "      <td>855.933289</td>\n",
       "      <td>289.257306</td>\n",
       "      <td>13.892157</td>\n",
       "      <td>2.479824</td>\n",
       "      <td>NaN</td>\n",
       "    </tr>\n",
       "  </tbody>\n",
       "</table>\n",
       "</div>"
      ],
      "text/plain": [
       "                                 time   customer_id   product_id        price  \\\n",
       "count                            4000   4000.000000  4000.000000  4000.000000   \n",
       "unique                            NaN           NaN          NaN          NaN   \n",
       "top                               NaN           NaN          NaN          NaN   \n",
       "freq                              NaN           NaN          NaN          NaN   \n",
       "mean       2024-05-16 05:35:34.792000  11506.696750   998.228500    29.795737   \n",
       "min               2024-04-01 00:17:20  10001.000000   500.000000     5.790000   \n",
       "25%     2024-04-22 12:21:22.249999872  10750.000000   751.000000    20.047500   \n",
       "50%        2024-05-15 23:07:57.500000  11519.000000   996.000000    26.925000   \n",
       "75%     2024-06-08 11:09:16.249999872  12235.000000  1251.000000    36.532500   \n",
       "max               2024-06-30 23:23:12  12999.000000  1499.000000   142.670000   \n",
       "std                               NaN    855.933289   289.257306    13.892157   \n",
       "\n",
       "           discount status  \n",
       "count   4000.000000   4000  \n",
       "unique          NaN      4  \n",
       "top             NaN   paid  \n",
       "freq            NaN   2853  \n",
       "mean       3.025215    NaN  \n",
       "min        0.000000    NaN  \n",
       "25%        1.260000    NaN  \n",
       "50%        2.535000    NaN  \n",
       "75%        4.240000    NaN  \n",
       "max       18.360000    NaN  \n",
       "std        2.479824    NaN  "
      ]
     },
     "execution_count": 6,
     "metadata": {},
     "output_type": "execute_result"
    }
   ],
   "source": [
    "# Deskriptive Statistiken des Dataframes\n",
    "df.describe(include='all')"
   ]
  },
  {
   "cell_type": "markdown",
   "id": "66164662",
   "metadata": {},
   "source": [
    "#### <b>Aufgabe (2): Schreiben Sie den Inhalt der CSV-Datei 'ecommerce.csv' in die erstellte Tinyflux-Datenbank \"ecommerce.db\" und weisen sie Time, Fields und Tags zu.</b>\n",
    "\n",
    "<b style=\"color: gray;\">(max. erreichbare Punkte: 8)</b>"
   ]
  },
  {
   "cell_type": "code",
   "execution_count": 10,
   "id": "cfd07b2d-1b23-4c93-b3f9-ccc3dcc73c31",
   "metadata": {
    "tags": []
   },
   "outputs": [],
   "source": [
    "# Einlesen der CSV-Datei in Tinyflux\n",
    "with open('synthetic_ecommerce_orders.csv', mode=\"r\") as file:\n",
    "    csv_reader = csv.DictReader(file)\n",
    "    for row in csv_reader:\n",
    "        point = Point(\n",
    "            time=datetime.strptime(row['time'], '%Y-%m-%d %H:%M:%S'),\n",
    "            measurement=\"ecommerce_orders\",\n",
    "            tags={\n",
    "                \"customer_id\": row['customer_id'],\n",
    "                \"product_id\": row['product_id'],\n",
    "                \"status\": row['status']\n",
    "            },\n",
    "            fields={\n",
    "                \"price\": float(row['price']),\n",
    "                \"discount\": float(row['discount'])\n",
    "            }\n",
    "        )\n",
    "    db.insert(point)"
   ]
  },
  {
   "cell_type": "markdown",
   "id": "8b3b0ec4-23c0-4a37-9b5b-1e07bc086dd9",
   "metadata": {
    "tags": []
   },
   "source": [
    "#### <b>Aufgabe (3): Die ersten drei Käufe erhalten am 7.7.2024 10% auf den am 1.4.2024 bezahlten Preis (ohne Berücksichtigung des Discounts) zurückerstattet. Fügen Sie die drei Transaktionen manuell in die Datenbank ein und weisen Sie Time, Fields und Tags gleichermassen zu, wie beim Inhalt der CSV-Datei.\n",
    "\n",
    "</b>\n",
    "\n",
    "<b style=\"color: gray;\">(max. erreichbare Punkte: 4)</b>"
   ]
  },
  {
   "cell_type": "code",
   "execution_count": null,
   "id": "07669128-00bc-4640-aa91-c95803714e73",
   "metadata": {
    "tags": []
   },
   "outputs": [],
   "source": [
    "# Berechnung der Rückerstattung am 7.7.2024\n",
    "\n",
    "v1 = 46.79 * 0.1\n",
    "print('Rückerstattung 1. Kauf:', v1)\n",
    "v2 = 22.37 * 0.1\n",
    "print('Rückerstattung 2. Kauf:', v2)\n",
    "v3 = 38.76 * 0.1\n",
    "print('Rückerstattung 3. Kauf:', v3)"
   ]
  },
  {
   "cell_type": "markdown",
   "id": "a7265ca3-f195-4d9a-b4fa-1b211f3a7ae5",
   "metadata": {},
   "source": [
    "| time | customer_id | product_id | price | discount | status |\n",
    "| --- | --- | --- | --- | --- | --- |\n",
    "| 2024-07-07 00:00:00 | 12828 | 1114 | 4.679 | 0.00 | refunded |\n",
    "| 2024-07-07 00:00:00 | 12313 | 1414 | 2.237 | 0.00 | refunded |\n",
    "| 2024-07-07 00:00:00 | 12117 | 1242 | 3.876 | 0.00 | refunded |"
   ]
  },
  {
   "cell_type": "code",
   "execution_count": 11,
   "id": "ed3e36b8-11e5-48b3-babf-ed6558f47728",
   "metadata": {
    "tags": []
   },
   "outputs": [
    {
     "data": {
      "text/plain": [
       "3"
      ]
     },
     "execution_count": 11,
     "metadata": {},
     "output_type": "execute_result"
    }
   ],
   "source": [
    "# Einlesen von manuellen Records\n",
    "p1 = Point(\n",
    "    time=datetime(2024, 7, 7,0, 0, 0, tzinfo=timezone.utc),\n",
    "    tags={\"customer_id\": \"12828\", \"product_id\": \"1114\", \"status\": \"refunded\"},\n",
    "    fields={\"price\": 4.679, \"discount\": 0.4679 }\n",
    ")\n",
    "p2 = Point(\n",
    "    time=datetime(2024, 7, 7,0, 0, 0, tzinfo=timezone.utc),\n",
    "    tags={\"customer_id\": \"12313\", \"product_id\": \"1414\", \"status\": \"refunded\"},\n",
    "    fields={\"price\": 2.237, \"discount\": 0.2237 }\n",
    ")\n",
    "p3 = Point(\n",
    "    time=datetime(2024, 7, 7,0, 0, 0, tzinfo=timezone.utc),\n",
    "    tags={\"customer_id\": \"12117\", \"product_id\": \"1242\", \"status\": \"refunded\"},\n",
    "    fields={\"price\": 3.876, \"discount\": 0.3876 }\n",
    ")\n",
    "db.insert_multiple([p1, p2, p3])  "
   ]
  },
  {
   "cell_type": "markdown",
   "id": "4f6fa711",
   "metadata": {},
   "source": [
    "<div>\n",
    "\n",
    "#### <b> Hinweis! \n",
    "\n",
    "#### Falls etwas mit der Erstellung der Datenbank nicht funktioniert, verwenden Sie für die folgenden Aufgaben die Tinyflux Datenbank 'ecommerce_fallback.db'. Gehen Sie davon aus, dass diese unter denselben, obigen Bedingungen erstellt wurde.</b>\n",
    "    \n",
    "#### <b>Erstellen der Verbindung mit der Tinyflux-Datenbank mit dem Namen \"ecommerce_fallback.db\":</b>\n",
    "</div>"
   ]
  },
  {
   "cell_type": "code",
   "execution_count": null,
   "id": "2249c16f-aac9-4a4b-8640-fb20614e8de6",
   "metadata": {},
   "outputs": [],
   "source": [
    "# Erstellung der Tinyflux-Datenbank (wird bereitgestellt)\n",
    "db = TinyFlux(\"ecommerce_fallback.db\")"
   ]
  },
  {
   "cell_type": "code",
   "execution_count": 12,
   "id": "bfc13fab",
   "metadata": {},
   "outputs": [],
   "source": [
    "# Erstellung der Tinyflux-Datenbank (wird bereitgestellt)\n",
    "db = TinyFlux(\"ecommerce.db\")"
   ]
  },
  {
   "cell_type": "markdown",
   "id": "f1b7e2b8-3f89-461d-b1f7-de6d577a102d",
   "metadata": {},
   "source": [
    "## <b>Aufgaben: Abfragen (Queries) (Dieser Teil wird bewertet!)</b>\n",
    "\n",
    "<b >Hinweise zu den folgenden Aufgabenstellungen:</b>\n",
    "<ul>\n",
    "  <li>Erstellen Sie je Aufgabe eine Time-, Field- oder Tag Abfrage bzw. eine Kombination von diesen und integrieren Sie diese in Ihren Python Code.</li>\n",
    "  <li>Speichern Sie je Aufgabe die Ergebnistabelle mittels der zu Beginn dieses Notebooks bereitgestellten Funktion <b>points_to_dataframe</b> in einem DataFrame und stellen Sie diesen bzw. dessen Eigenschaften ganz oder in Teilen (z.B. erste 5 Zeilen) dar.</li>\n",
    "</ul>"
   ]
  },
  {
   "cell_type": "markdown",
   "id": "8af4064e-4cc5-46d7-beba-bd6fb9a73d45",
   "metadata": {},
   "source": [
    "#### <b>Aufgabe (4): Schreiben Sie alle Bestellungen in ein Dataframe, die bis und mit dem 4.4.2024 getätigt wurden und geben Sie die ersten 10 Records dieses Dataframes aus</b>\n",
    "<b style=\"color: gray;\">(max. erreichbare Punkte: 4)</b>"
   ]
  },
  {
   "cell_type": "code",
   "execution_count": 13,
   "id": "366ff370",
   "metadata": {},
   "outputs": [],
   "source": [
    "from tinyflux import TimeQuery\n",
    "from datetime import datetime, timezone\n",
    "time = TimeQuery()"
   ]
  },
  {
   "cell_type": "code",
   "execution_count": 18,
   "id": "0d536be5-d641-476c-9d36-6e7a0a8bebe2",
   "metadata": {
    "tags": []
   },
   "outputs": [
    {
     "data": {
      "text/html": [
       "<div>\n",
       "<style scoped>\n",
       "    .dataframe tbody tr th:only-of-type {\n",
       "        vertical-align: middle;\n",
       "    }\n",
       "\n",
       "    .dataframe tbody tr th {\n",
       "        vertical-align: top;\n",
       "    }\n",
       "\n",
       "    .dataframe thead th {\n",
       "        text-align: right;\n",
       "    }\n",
       "</style>\n",
       "<table border=\"1\" class=\"dataframe\">\n",
       "  <thead>\n",
       "    <tr style=\"text-align: right;\">\n",
       "      <th></th>\n",
       "      <th>time</th>\n",
       "      <th>customer_id</th>\n",
       "      <th>product_id</th>\n",
       "      <th>status</th>\n",
       "      <th>price</th>\n",
       "      <th>discount</th>\n",
       "    </tr>\n",
       "  </thead>\n",
       "  <tbody>\n",
       "    <tr>\n",
       "      <th>158</th>\n",
       "      <td>2024-04-03 23:10:17+00:00</td>\n",
       "      <td>12488</td>\n",
       "      <td>1244</td>\n",
       "      <td>paid</td>\n",
       "      <td>40.40</td>\n",
       "      <td>0.00</td>\n",
       "    </tr>\n",
       "    <tr>\n",
       "      <th>157</th>\n",
       "      <td>2024-04-03 22:03:30+00:00</td>\n",
       "      <td>11216</td>\n",
       "      <td>1069</td>\n",
       "      <td>paid</td>\n",
       "      <td>15.26</td>\n",
       "      <td>2.75</td>\n",
       "    </tr>\n",
       "    <tr>\n",
       "      <th>156</th>\n",
       "      <td>2024-04-03 20:59:44+00:00</td>\n",
       "      <td>12106</td>\n",
       "      <td>1129</td>\n",
       "      <td>paid</td>\n",
       "      <td>47.73</td>\n",
       "      <td>1.91</td>\n",
       "    </tr>\n",
       "    <tr>\n",
       "      <th>155</th>\n",
       "      <td>2024-04-03 20:56:43+00:00</td>\n",
       "      <td>12171</td>\n",
       "      <td>1079</td>\n",
       "      <td>paid</td>\n",
       "      <td>70.07</td>\n",
       "      <td>7.71</td>\n",
       "    </tr>\n",
       "    <tr>\n",
       "      <th>154</th>\n",
       "      <td>2024-04-03 20:27:17+00:00</td>\n",
       "      <td>12021</td>\n",
       "      <td>755</td>\n",
       "      <td>paid</td>\n",
       "      <td>25.13</td>\n",
       "      <td>1.26</td>\n",
       "    </tr>\n",
       "    <tr>\n",
       "      <th>153</th>\n",
       "      <td>2024-04-03 20:15:42+00:00</td>\n",
       "      <td>11731</td>\n",
       "      <td>519</td>\n",
       "      <td>paid</td>\n",
       "      <td>22.37</td>\n",
       "      <td>4.47</td>\n",
       "    </tr>\n",
       "    <tr>\n",
       "      <th>152</th>\n",
       "      <td>2024-04-03 19:45:33+00:00</td>\n",
       "      <td>10735</td>\n",
       "      <td>898</td>\n",
       "      <td>paid</td>\n",
       "      <td>19.03</td>\n",
       "      <td>1.90</td>\n",
       "    </tr>\n",
       "    <tr>\n",
       "      <th>151</th>\n",
       "      <td>2024-04-03 18:58:28+00:00</td>\n",
       "      <td>12930</td>\n",
       "      <td>513</td>\n",
       "      <td>paid</td>\n",
       "      <td>48.86</td>\n",
       "      <td>3.91</td>\n",
       "    </tr>\n",
       "    <tr>\n",
       "      <th>150</th>\n",
       "      <td>2024-04-03 18:53:39+00:00</td>\n",
       "      <td>11557</td>\n",
       "      <td>1045</td>\n",
       "      <td>cancelled</td>\n",
       "      <td>16.29</td>\n",
       "      <td>0.98</td>\n",
       "    </tr>\n",
       "    <tr>\n",
       "      <th>149</th>\n",
       "      <td>2024-04-03 18:50:18+00:00</td>\n",
       "      <td>12076</td>\n",
       "      <td>1041</td>\n",
       "      <td>paid</td>\n",
       "      <td>17.57</td>\n",
       "      <td>1.23</td>\n",
       "    </tr>\n",
       "  </tbody>\n",
       "</table>\n",
       "</div>"
      ],
      "text/plain": [
       "                         time customer_id product_id     status  price  \\\n",
       "158 2024-04-03 23:10:17+00:00       12488       1244       paid  40.40   \n",
       "157 2024-04-03 22:03:30+00:00       11216       1069       paid  15.26   \n",
       "156 2024-04-03 20:59:44+00:00       12106       1129       paid  47.73   \n",
       "155 2024-04-03 20:56:43+00:00       12171       1079       paid  70.07   \n",
       "154 2024-04-03 20:27:17+00:00       12021        755       paid  25.13   \n",
       "153 2024-04-03 20:15:42+00:00       11731        519       paid  22.37   \n",
       "152 2024-04-03 19:45:33+00:00       10735        898       paid  19.03   \n",
       "151 2024-04-03 18:58:28+00:00       12930        513       paid  48.86   \n",
       "150 2024-04-03 18:53:39+00:00       11557       1045  cancelled  16.29   \n",
       "149 2024-04-03 18:50:18+00:00       12076       1041       paid  17.57   \n",
       "\n",
       "     discount  \n",
       "158      0.00  \n",
       "157      2.75  \n",
       "156      1.91  \n",
       "155      7.71  \n",
       "154      1.26  \n",
       "153      4.47  \n",
       "152      1.90  \n",
       "151      3.91  \n",
       "150      0.98  \n",
       "149      1.23  "
      ]
     },
     "execution_count": 18,
     "metadata": {},
     "output_type": "execute_result"
    }
   ],
   "source": [
    "\n",
    "# Erstellung eines Dataframes aus den Query-Resultaten und Ausgabe der ersten 10 Records\n",
    "\n",
    "# Definieren der Query\n",
    "time_query_conditions = (time <= datetime(2024, 4, 4, tzinfo=timezone.utc))\n",
    "\n",
    "# Datenabfrage mittels der definierten Query\n",
    "my_results = db.search(time_query_conditions)\n",
    "\n",
    "# Erstellung eines Dataframes aus den Query-Resultaten\n",
    "df_result = points_to_dataframe(my_results)\n",
    "\n",
    "#Schritt 1: Entfernen von Duplikaten (z.B. nach Zeitstempel)\n",
    "df_unique = df_result.drop_duplicates(subset=[\"time\"])\n",
    "\n",
    "#Schritt 2: Sortieren nach Zeitstempel\n",
    "df_last10 = df_unique.sort_values(\"time\", ascending=False).head(10)\n",
    "df_last10"
   ]
  },
  {
   "cell_type": "markdown",
   "id": "d6cbee6a-08fe-41e5-8d64-68b75ee448cf",
   "metadata": {
    "tags": []
   },
   "source": [
    "#### <b>Aufgabe (5): Ermitteln Sie über den gesamten Datensatz die Anzahl Transaktionen pro Monat</b>\n",
    "\n",
    "<b>Details zur Aufgabenstellung:</b>\n",
    "- Die Anzahl Transaktionen kann mittels len(df_result), angewendet auf das Dataframe oder die Rohausgabe des Queries, herausgegeben werden\n",
    "\n",
    "<b style=\"color: gray;\">(max. erreichbare Punkte: 8)</b>"
   ]
  },
  {
   "cell_type": "code",
   "execution_count": 20,
   "id": "8675d5a9",
   "metadata": {},
   "outputs": [
    {
     "name": "stdout",
     "output_type": "stream",
     "text": [
      "2024-04-01 00:17:20 2024-06-30 23:23:12\n",
      "time\n",
      "2024    4000\n",
      "Name: count, dtype: int64\n",
      "time\n",
      "5    1339\n",
      "4    1338\n",
      "6    1323\n",
      "Name: count, dtype: int64\n"
     ]
    }
   ],
   "source": [
    "# Zeige alle Zeitstempel aus dem DataFrame\n",
    "print(df['time'].min(), df['time'].max())\n",
    "print(df['time'].dt.year.value_counts())\n",
    "print(df[df['time'].dt.year == 2024]['time'].dt.month.value_counts())"
   ]
  },
  {
   "cell_type": "code",
   "execution_count": 26,
   "id": "6f7f77d3-e98c-4c72-a181-a08ff18c0a58",
   "metadata": {
    "tags": []
   },
   "outputs": [
    {
     "ename": "KeyError",
     "evalue": "'time'",
     "output_type": "error",
     "traceback": [
      "\u001b[31m---------------------------------------------------------------------------\u001b[39m",
      "\u001b[31mKeyError\u001b[39m                                  Traceback (most recent call last)",
      "\u001b[36mCell\u001b[39m\u001b[36m \u001b[39m\u001b[32mIn[26]\u001b[39m\u001b[32m, line 30\u001b[39m\n\u001b[32m     27\u001b[39m my_results_Dec = db.search(time_query_conditions_Dec)\n\u001b[32m     29\u001b[39m \u001b[38;5;66;03m# Erstellung eines Dataframes aus den Query-Resultaten\u001b[39;00m\n\u001b[32m---> \u001b[39m\u001b[32m30\u001b[39m df_result_Jan = \u001b[43mpoints_to_dataframe\u001b[49m\u001b[43m(\u001b[49m\u001b[43mmy_results_Jan\u001b[49m\u001b[43m)\u001b[49m\n\u001b[32m     31\u001b[39m df_result_Feb = points_to_dataframe(my_results_Feb)\n\u001b[32m     32\u001b[39m df_result_Mar = points_to_dataframe(my_results_Mar)\n",
      "\u001b[36mCell\u001b[39m\u001b[36m \u001b[39m\u001b[32mIn[2]\u001b[39m\u001b[32m, line 20\u001b[39m, in \u001b[36mpoints_to_dataframe\u001b[39m\u001b[34m(points_list)\u001b[39m\n\u001b[32m     17\u001b[39m df = pd.DataFrame(data)\n\u001b[32m     19\u001b[39m \u001b[38;5;66;03m# Convert time to datetime\u001b[39;00m\n\u001b[32m---> \u001b[39m\u001b[32m20\u001b[39m df[\u001b[33m'\u001b[39m\u001b[33mtime\u001b[39m\u001b[33m'\u001b[39m] = pd.to_datetime(\u001b[43mdf\u001b[49m\u001b[43m[\u001b[49m\u001b[33;43m'\u001b[39;49m\u001b[33;43mtime\u001b[39;49m\u001b[33;43m'\u001b[39;49m\u001b[43m]\u001b[49m)\n\u001b[32m     22\u001b[39m \u001b[38;5;28;01mreturn\u001b[39;00m df\n",
      "\u001b[36mFile \u001b[39m\u001b[32m~/.local/lib/python3.12/site-packages/pandas/core/frame.py:4107\u001b[39m, in \u001b[36mDataFrame.__getitem__\u001b[39m\u001b[34m(self, key)\u001b[39m\n\u001b[32m   4105\u001b[39m \u001b[38;5;28;01mif\u001b[39;00m \u001b[38;5;28mself\u001b[39m.columns.nlevels > \u001b[32m1\u001b[39m:\n\u001b[32m   4106\u001b[39m     \u001b[38;5;28;01mreturn\u001b[39;00m \u001b[38;5;28mself\u001b[39m._getitem_multilevel(key)\n\u001b[32m-> \u001b[39m\u001b[32m4107\u001b[39m indexer = \u001b[38;5;28;43mself\u001b[39;49m\u001b[43m.\u001b[49m\u001b[43mcolumns\u001b[49m\u001b[43m.\u001b[49m\u001b[43mget_loc\u001b[49m\u001b[43m(\u001b[49m\u001b[43mkey\u001b[49m\u001b[43m)\u001b[49m\n\u001b[32m   4108\u001b[39m \u001b[38;5;28;01mif\u001b[39;00m is_integer(indexer):\n\u001b[32m   4109\u001b[39m     indexer = [indexer]\n",
      "\u001b[36mFile \u001b[39m\u001b[32m~/.local/lib/python3.12/site-packages/pandas/core/indexes/range.py:417\u001b[39m, in \u001b[36mRangeIndex.get_loc\u001b[39m\u001b[34m(self, key)\u001b[39m\n\u001b[32m    415\u001b[39m         \u001b[38;5;28;01mraise\u001b[39;00m \u001b[38;5;167;01mKeyError\u001b[39;00m(key) \u001b[38;5;28;01mfrom\u001b[39;00m\u001b[38;5;250m \u001b[39m\u001b[34;01merr\u001b[39;00m\n\u001b[32m    416\u001b[39m \u001b[38;5;28;01mif\u001b[39;00m \u001b[38;5;28misinstance\u001b[39m(key, Hashable):\n\u001b[32m--> \u001b[39m\u001b[32m417\u001b[39m     \u001b[38;5;28;01mraise\u001b[39;00m \u001b[38;5;167;01mKeyError\u001b[39;00m(key)\n\u001b[32m    418\u001b[39m \u001b[38;5;28mself\u001b[39m._check_indexing_error(key)\n\u001b[32m    419\u001b[39m \u001b[38;5;28;01mraise\u001b[39;00m \u001b[38;5;167;01mKeyError\u001b[39;00m(key)\n",
      "\u001b[31mKeyError\u001b[39m: 'time'"
     ]
    }
   ],
   "source": [
    "# Definieren der Queries\n",
    "time_query_conditions_Jan = (time >= datetime(2024, 1, 1, tzinfo=timezone.utc)) & (time <= datetime(2024, 1, 31, tzinfo=timezone.utc))\n",
    "time_query_conditions_Feb = (time >= datetime(2024, 2, 1, tzinfo=timezone.utc)) & (time <= datetime(2024, 2, 28, tzinfo=timezone.utc))\n",
    "time_query_conditions_Mar = (time >= datetime(2024, 3, 1, tzinfo=timezone.utc)) & (time <= datetime(2024, 3, 31, tzinfo=timezone.utc))\n",
    "time_query_conditions_Apr = (time >= datetime(2024, 4, 1, tzinfo=timezone.utc)) & (time <= datetime(2024, 4, 30, tzinfo=timezone.utc))\n",
    "time_query_conditions_May = (time >= datetime(2024, 5, 1, tzinfo=timezone.utc)) & (time <= datetime(2024, 5, 31, tzinfo=timezone.utc))\n",
    "time_query_conditions_Jun = (time >= datetime(2024, 6, 1, tzinfo=timezone.utc)) & (time <= datetime(2024, 6, 30, tzinfo=timezone.utc))\n",
    "time_query_conditions_Jul = (time >= datetime(2024, 7, 1, tzinfo=timezone.utc)) & (time <= datetime(2024, 7, 31, tzinfo=timezone.utc))\n",
    "time_query_conditions_Aug = (time >= datetime(2024, 8, 1, tzinfo=timezone.utc)) & (time <= datetime(2024, 8, 31, tzinfo=timezone.utc))\n",
    "time_query_conditions_Sep = (time >= datetime(2024, 9, 1, tzinfo=timezone.utc)) & (time <= datetime(2024, 9, 30, tzinfo=timezone.utc))\n",
    "time_query_conditions_Oct = (time >= datetime(2024, 10, 1, tzinfo=timezone.utc)) & (time <= datetime(2024, 10, 31, tzinfo=timezone.utc))\n",
    "time_query_conditions_Nov = (time >= datetime(2024, 11, 1, tzinfo=timezone.utc)) & (time <= datetime(2024, 11, 30, tzinfo=timezone.utc))\n",
    "time_query_conditions_Dec = (time >= datetime(2024, 12, 1, tzinfo=timezone.utc)) & (time <= datetime(2024, 12, 31, tzinfo=timezone.utc))\n",
    "\n",
    "# Datenabfrage mittels der definierten Queries\n",
    "my_results_Jan = db.search(time_query_conditions_Jan)\n",
    "my_results_Feb = db.search(time_query_conditions_Feb)\n",
    "my_results_Mar = db.search(time_query_conditions_Mar)\n",
    "my_results_Apr = db.search(time_query_conditions_Apr)\n",
    "my_results_May = db.search(time_query_conditions_May)\n",
    "my_results_Jun = db.search(time_query_conditions_Jun)\n",
    "my_results_Jul = db.search(time_query_conditions_Jul)\n",
    "my_results_Aug = db.search(time_query_conditions_Aug)\n",
    "my_results_Sep = db.search(time_query_conditions_Sep)\n",
    "my_results_Oct = db.search(time_query_conditions_Oct)\n",
    "my_results_Nov = db.search(time_query_conditions_Nov)\n",
    "my_results_Dec = db.search(time_query_conditions_Dec)\n",
    "\n",
    "# Erstellung eines Dataframes aus den Query-Resultaten\n",
    "df_result_Jan = points_to_dataframe(my_results_Jan)\n",
    "df_result_Feb = points_to_dataframe(my_results_Feb)\n",
    "df_result_Mar = points_to_dataframe(my_results_Mar)\n",
    "df_result_Apr = points_to_dataframe(my_results_Apr)\n",
    "df_result_May = points_to_dataframe(my_results_May)\n",
    "df_result_Jun = points_to_dataframe(my_results_Jun)\n",
    "df_result_Jul = points_to_dataframe(my_results_Jul)\n",
    "df_result_Aug = points_to_dataframe(my_results_Aug)\n",
    "df_result_Sep = points_to_dataframe(my_results_Sep)\n",
    "df_result_Oct = points_to_dataframe(my_results_Oct)\n",
    "df_result_Nov = points_to_dataframe(my_results_Nov)\n",
    "df_result_Dec = points_to_dataframe(my_results_Dec)\n",
    "\n",
    "# Ausgabe der aggregierten Resultate\n",
    "print(\"\\nTime Query Count January:\")\n",
    "print(len(df_result_Jan))\n",
    "print(\"\\nTime Query Count February:\")\n",
    "print(len(df_result_Feb))\n",
    "print(\"\\nTime Query Count March:\")\n",
    "print(len(df_result_Mar))\n",
    "print(\"\\nTime Query Count April:\")\n",
    "print(len(df_result_Apr))\n",
    "print(\"\\nTime Query Count May:\")\n",
    "print(len(df_result_May))\n",
    "print(\"\\nTime Query Count June:\")\n",
    "print(len(df_result_Jun))\n",
    "print(\"\\nTime Query Count July:\")\n",
    "print(len(df_result_Jul))\n",
    "print(\"\\nTime Query Count August:\")\n",
    "print(len(df_result_Aug))\n",
    "print(\"\\nTime Query Count September:\")\n",
    "print(len(df_result_Sep))\n",
    "print(\"\\nTime Query Count October:\")\n",
    "print(len(df_result_Oct))\n",
    "print(\"\\nTime Query Count November:\")\n",
    "print(len(df_result_Nov))\n",
    "print(\"\\nTime Query Count December:\")\n",
    "print(len(df_result_Dec))"
   ]
  },
  {
   "cell_type": "markdown",
   "id": "b467f4eb-d2ea-4a29-926b-94adf3eea0f1",
   "metadata": {
    "tags": []
   },
   "source": [
    "#### <b>Aufgabe (6): Ermitteln Sie den Median aller Discount-Beträge pro Status und Monat</b>\n",
    "\n",
    "<b>Details zur Aufgabenstellung:</b>\n",
    "- Alle im Datensatz vorhandenen Status können Sie mittels der Pandas-Funktion \"df.attributname.unique()\" (https://pandas.pydata.org/docs/reference/api/pandas.unique.html) ermitteln\n",
    "- Den Durchschnitt über eine Spalte können Sie mittels der Pandas-Funktion df[['spaltenname']].mean() https://pandas.pydata.org/pandas-docs/stable/reference/api/pandas.DataFrame.mean.html ermitteln\n",
    "\n",
    "<b style=\"color: gray;\">(max. erreichbare Punkte: 12)</b>"
   ]
  },
  {
   "cell_type": "code",
   "execution_count": 24,
   "id": "0c638303-0b35-4e5d-8454-e877e7f0f868",
   "metadata": {
    "tags": []
   },
   "outputs": [
    {
     "data": {
      "text/plain": [
       "array(['paid', 'cancelled', 'placed', 'refunded'], dtype=object)"
      ]
     },
     "execution_count": 24,
     "metadata": {},
     "output_type": "execute_result"
    }
   ],
   "source": [
    "df.status.unique()"
   ]
  },
  {
   "cell_type": "code",
   "execution_count": 40,
   "id": "04c1636b-1760-4dcd-bdf2-f109d9a9c443",
   "metadata": {
    "tags": []
   },
   "outputs": [
    {
     "name": "stdout",
     "output_type": "stream",
     "text": [
      "\n",
      "Median für paid:\n"
     ]
    },
    {
     "ename": "KeyError",
     "evalue": "\"None of [Index(['paid'], dtype='object')] are in the [columns]\"",
     "output_type": "error",
     "traceback": [
      "\u001b[31m---------------------------------------------------------------------------\u001b[39m",
      "\u001b[31mKeyError\u001b[39m                                  Traceback (most recent call last)",
      "\u001b[36mCell\u001b[39m\u001b[36m \u001b[39m\u001b[32mIn[40]\u001b[39m\u001b[32m, line 31\u001b[39m\n\u001b[32m     27\u001b[39m \u001b[38;5;66;03m# Ausgabe der aggregierten Resultate\u001b[39;00m\n\u001b[32m     28\u001b[39m \n\u001b[32m     29\u001b[39m \u001b[38;5;66;03m# - paid, April\u001b[39;00m\n\u001b[32m     30\u001b[39m \u001b[38;5;28mprint\u001b[39m (\u001b[33m\"\u001b[39m\u001b[38;5;130;01m\\n\u001b[39;00m\u001b[33mMedian für paid:\u001b[39m\u001b[33m\"\u001b[39m)\n\u001b[32m---> \u001b[39m\u001b[32m31\u001b[39m \u001b[38;5;28mprint\u001b[39m(\u001b[43mdf_result_paid\u001b[49m\u001b[43m[\u001b[49m\u001b[43m[\u001b[49m\u001b[33;43m'\u001b[39;49m\u001b[33;43mpaid\u001b[39;49m\u001b[33;43m'\u001b[39;49m\u001b[43m]\u001b[49m\u001b[43m]\u001b[49m.mean())\n\u001b[32m     32\u001b[39m \u001b[38;5;66;03m# - placed, April\u001b[39;00m\n\u001b[32m     33\u001b[39m \u001b[38;5;28mprint\u001b[39m (\u001b[33m\"\u001b[39m\u001b[38;5;130;01m\\n\u001b[39;00m\u001b[33mMedian für placed:\u001b[39m\u001b[33m\"\u001b[39m)\n",
      "\u001b[36mFile \u001b[39m\u001b[32m~/.local/lib/python3.12/site-packages/pandas/core/frame.py:4113\u001b[39m, in \u001b[36mDataFrame.__getitem__\u001b[39m\u001b[34m(self, key)\u001b[39m\n\u001b[32m   4111\u001b[39m     \u001b[38;5;28;01mif\u001b[39;00m is_iterator(key):\n\u001b[32m   4112\u001b[39m         key = \u001b[38;5;28mlist\u001b[39m(key)\n\u001b[32m-> \u001b[39m\u001b[32m4113\u001b[39m     indexer = \u001b[38;5;28;43mself\u001b[39;49m\u001b[43m.\u001b[49m\u001b[43mcolumns\u001b[49m\u001b[43m.\u001b[49m\u001b[43m_get_indexer_strict\u001b[49m\u001b[43m(\u001b[49m\u001b[43mkey\u001b[49m\u001b[43m,\u001b[49m\u001b[43m \u001b[49m\u001b[33;43m\"\u001b[39;49m\u001b[33;43mcolumns\u001b[39;49m\u001b[33;43m\"\u001b[39;49m\u001b[43m)\u001b[49m[\u001b[32m1\u001b[39m]\n\u001b[32m   4115\u001b[39m \u001b[38;5;66;03m# take() does not accept boolean indexers\u001b[39;00m\n\u001b[32m   4116\u001b[39m \u001b[38;5;28;01mif\u001b[39;00m \u001b[38;5;28mgetattr\u001b[39m(indexer, \u001b[33m\"\u001b[39m\u001b[33mdtype\u001b[39m\u001b[33m\"\u001b[39m, \u001b[38;5;28;01mNone\u001b[39;00m) == \u001b[38;5;28mbool\u001b[39m:\n",
      "\u001b[36mFile \u001b[39m\u001b[32m~/.local/lib/python3.12/site-packages/pandas/core/indexes/base.py:6212\u001b[39m, in \u001b[36mIndex._get_indexer_strict\u001b[39m\u001b[34m(self, key, axis_name)\u001b[39m\n\u001b[32m   6209\u001b[39m \u001b[38;5;28;01melse\u001b[39;00m:\n\u001b[32m   6210\u001b[39m     keyarr, indexer, new_indexer = \u001b[38;5;28mself\u001b[39m._reindex_non_unique(keyarr)\n\u001b[32m-> \u001b[39m\u001b[32m6212\u001b[39m \u001b[38;5;28;43mself\u001b[39;49m\u001b[43m.\u001b[49m\u001b[43m_raise_if_missing\u001b[49m\u001b[43m(\u001b[49m\u001b[43mkeyarr\u001b[49m\u001b[43m,\u001b[49m\u001b[43m \u001b[49m\u001b[43mindexer\u001b[49m\u001b[43m,\u001b[49m\u001b[43m \u001b[49m\u001b[43maxis_name\u001b[49m\u001b[43m)\u001b[49m\n\u001b[32m   6214\u001b[39m keyarr = \u001b[38;5;28mself\u001b[39m.take(indexer)\n\u001b[32m   6215\u001b[39m \u001b[38;5;28;01mif\u001b[39;00m \u001b[38;5;28misinstance\u001b[39m(key, Index):\n\u001b[32m   6216\u001b[39m     \u001b[38;5;66;03m# GH 42790 - Preserve name from an Index\u001b[39;00m\n",
      "\u001b[36mFile \u001b[39m\u001b[32m~/.local/lib/python3.12/site-packages/pandas/core/indexes/base.py:6261\u001b[39m, in \u001b[36mIndex._raise_if_missing\u001b[39m\u001b[34m(self, key, indexer, axis_name)\u001b[39m\n\u001b[32m   6259\u001b[39m \u001b[38;5;28;01mif\u001b[39;00m nmissing:\n\u001b[32m   6260\u001b[39m     \u001b[38;5;28;01mif\u001b[39;00m nmissing == \u001b[38;5;28mlen\u001b[39m(indexer):\n\u001b[32m-> \u001b[39m\u001b[32m6261\u001b[39m         \u001b[38;5;28;01mraise\u001b[39;00m \u001b[38;5;167;01mKeyError\u001b[39;00m(\u001b[33mf\u001b[39m\u001b[33m\"\u001b[39m\u001b[33mNone of [\u001b[39m\u001b[38;5;132;01m{\u001b[39;00mkey\u001b[38;5;132;01m}\u001b[39;00m\u001b[33m] are in the [\u001b[39m\u001b[38;5;132;01m{\u001b[39;00maxis_name\u001b[38;5;132;01m}\u001b[39;00m\u001b[33m]\u001b[39m\u001b[33m\"\u001b[39m)\n\u001b[32m   6263\u001b[39m     not_found = \u001b[38;5;28mlist\u001b[39m(ensure_index(key)[missing_mask.nonzero()[\u001b[32m0\u001b[39m]].unique())\n\u001b[32m   6264\u001b[39m     \u001b[38;5;28;01mraise\u001b[39;00m \u001b[38;5;167;01mKeyError\u001b[39;00m(\u001b[33mf\u001b[39m\u001b[33m\"\u001b[39m\u001b[38;5;132;01m{\u001b[39;00mnot_found\u001b[38;5;132;01m}\u001b[39;00m\u001b[33m not in index\u001b[39m\u001b[33m\"\u001b[39m)\n",
      "\u001b[31mKeyError\u001b[39m: \"None of [Index(['paid'], dtype='object')] are in the [columns]\""
     ]
    }
   ],
   "source": [
    "# Definieren der Time-Queries\n",
    "time_query_conditions_m4 = (time >= datetime(2024, 4, 1, tzinfo=timezone.utc)) & (time <= datetime(2024, 4, 30, tzinfo=timezone.utc))\n",
    "time_query_conditions_m5 = (time >= datetime(2024, 5, 1, tzinfo=timezone.utc)) & (time <= datetime(2024, 5, 31, tzinfo=timezone.utc))\n",
    "time_query_conditions_m6 = (time >= datetime(2024, 6, 1, tzinfo=timezone.utc)) & (time <= datetime(2024, 6, 30, tzinfo=timezone.utc))\n",
    "time_query_conditions_m7 = (time >= datetime(2024, 7, 1, tzinfo=timezone.utc)) & (time <= datetime(2024, 7, 31, tzinfo=timezone.utc))\n",
    "\n",
    "field_query_conditions = (field.fee > 0.050444)\n",
    "\n",
    "# Definieren der Tag-Queries\n",
    "tag_query_conditions_paid = (tags.status == \"paid\")\n",
    "tag_query_conditions_cancelled = (tags.status == \"cancelled\")\n",
    "tag_query_conditions_placed = (tags.status == \"placed\")\n",
    "tag_query_conditions_refunded = (tags.status == \"refunded\")\n",
    "\n",
    "# Datenabfrage mittels der definierten Queries\n",
    "my_resulats_paid = db.search(tag_query_conditions_paid & time_query_conditions_m4)\n",
    "my_resulats_cancelled = db.search(tag_query_conditions_cancelled & time_query_conditions_m4)\n",
    "my_resulats_placed = db.search(tag_query_conditions_placed & time_query_conditions_m4)\n",
    "my_resulats_refunded = db.search(tag_query_conditions_refunded & time_query_conditions_m4)\n",
    "\n",
    "# Erstellung eines Dataframes aus den Query-Resultaten\n",
    "df_result_paid = points_to_dataframe(my_resulats_paid)\n",
    "df_result_cancelled = points_to_dataframe(my_resulats_cancelled)\n",
    "df_result_placed = points_to_dataframe(my_resulats_placed)\n",
    "df_result_refunded = points_to_dataframe(my_resulats_refunded)\n",
    "\n",
    "# Ausgabe der aggregierten Resultate\n",
    "\n",
    "# - paid, April\n",
    "print (\"\\nMedian für paid:\")\n",
    "print(df_result_paid[['paid']].mean())\n",
    "# - placed, April\n",
    "print (\"\\nMedian für placed:\")\n",
    "print(df_result_placed[['placed']].mean())\n",
    "# - refunded, April\n",
    "print (\"\\nMedian für refuned:\")\n",
    "print(df_result_cancelled[['refunded']].mean())\n",
    "# - cancelled, April\n",
    "print (\"\\nMedian für cancelled:\")\n",
    "print(df_result_cancelled[['cancelled']].mean())\n",
    "\n",
    "\n",
    "# - paid, Mai\n",
    "\n",
    "# - placed, Mai\n",
    "\n",
    "# - refunded, Mai\n",
    "\n",
    "# - cancelled, Mai\n",
    "\n",
    "\n",
    "\n",
    "# - paid, Juni\n",
    "\n",
    "# - placed, Juni\n",
    "\n",
    "# - refunded, Juni\n",
    "\n",
    "# - cancelled, Juni\n",
    "\n"
   ]
  },
  {
   "cell_type": "markdown",
   "id": "ff525b1e",
   "metadata": {},
   "source": [
    "### Jupyter notebook --footer info-- (please always provide this at the end of each notebook)"
   ]
  },
  {
   "cell_type": "code",
   "execution_count": null,
   "id": "0056cbfd-b72f-416c-a974-72134cd592a1",
   "metadata": {},
   "outputs": [],
   "source": [
    "import os\n",
    "import platform\n",
    "import socket\n",
    "from platform import python_version\n",
    "from datetime import datetime\n",
    "\n",
    "print('-----------------------------------')\n",
    "print(os.name.upper())\n",
    "print(platform.system(), '|', platform.release())\n",
    "print('Datetime:', datetime.now().strftime(\"%Y-%m-%d %H:%M:%S\"))\n",
    "print('Python Version:', python_version())\n",
    "print('IP Address:', socket.gethostbyname(socket.gethostname()))\n",
    "print('-----------------------------------')"
   ]
  }
 ],
 "metadata": {
  "kernelspec": {
   "display_name": "Python 3",
   "language": "python",
   "name": "python3"
  },
  "language_info": {
   "codemirror_mode": {
    "name": "ipython",
    "version": 3
   },
   "file_extension": ".py",
   "mimetype": "text/x-python",
   "name": "python",
   "nbconvert_exporter": "python",
   "pygments_lexer": "ipython3",
   "version": "3.12.1"
  }
 },
 "nbformat": 4,
 "nbformat_minor": 5
}
